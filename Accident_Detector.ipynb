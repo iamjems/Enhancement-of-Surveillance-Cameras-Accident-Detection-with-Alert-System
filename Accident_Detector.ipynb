{
  "nbformat": 4,
  "nbformat_minor": 0,
  "metadata": {
    "colab": {
      "name": "Accident Detector.ipynb",
      "provenance": [],
      "collapsed_sections": [],
      "toc_visible": true,
      "include_colab_link": true
    },
    "kernelspec": {
      "name": "python3",
      "display_name": "Python 3"
    },
    "language_info": {
      "name": "python"
    }
  },
  "cells": [
    {
      "cell_type": "markdown",
      "metadata": {
        "id": "view-in-github",
        "colab_type": "text"
      },
      "source": [
        "<a href=\"https://colab.research.google.com/github/iamjems/Enhancement-of-Surveillance-Cameras-Accident-Detection-with-Alert-System/blob/main/Accident_Detector.ipynb\" target=\"_parent\"><img src=\"https://colab.research.google.com/assets/colab-badge.svg\" alt=\"Open In Colab\"/></a>"
      ]
    },
    {
      "cell_type": "markdown",
      "source": [
        "Accident Detector orayt\n",
        "rak an roll"
      ],
      "metadata": {
        "id": "DGo35cqNab3R"
      }
    },
    {
      "cell_type": "markdown",
      "source": [
        "mag add tag codes na thank you"
      ],
      "metadata": {
        "id": "wdObViMy6v6w"
      }
    },
    {
      "cell_type": "code",
      "source": [
        "from google.colab import drive\n",
        "drive.mount('/content/drive')"
      ],
      "metadata": {
        "id": "JILMPXoWcIl-",
        "colab": {
          "base_uri": "https://localhost:8080/"
        },
        "outputId": "f17a9138-e3bd-4132-ff1d-ca06a2abbadc"
      },
      "execution_count": null,
      "outputs": [
        {
          "output_type": "stream",
          "name": "stdout",
          "text": [
            "Mounted at /content/drive\n"
          ]
        }
      ]
    },
    {
      "cell_type": "code",
      "execution_count": null,
      "metadata": {
        "colab": {
          "base_uri": "https://localhost:8080/"
        },
        "id": "un01_nB3aQba",
        "outputId": "4d01d8e7-a81e-483d-e19e-ab566200715d"
      },
      "outputs": [
        {
          "output_type": "stream",
          "name": "stdout",
          "text": [
            "/content/drive/MyDrive/Colab Notebooks/test folder\n"
          ]
        }
      ],
      "source": [
        "cd '/content/drive/MyDrive/Colab Notebooks/test folder'"
      ]
    },
    {
      "cell_type": "code",
      "source": [
        "%pwd"
      ],
      "metadata": {
        "colab": {
          "base_uri": "https://localhost:8080/",
          "height": 36
        },
        "id": "D-aVWv-TbBRq",
        "outputId": "5663ab7e-be95-458d-ae06-954ab4d5ffc9"
      },
      "execution_count": null,
      "outputs": [
        {
          "output_type": "execute_result",
          "data": {
            "text/plain": [
              "'/content/drive/MyDrive/Colab Notebooks/test folder'"
            ],
            "application/vnd.google.colaboratory.intrinsic+json": {
              "type": "string"
            }
          },
          "metadata": {},
          "execution_count": 8
        }
      ]
    },
    {
      "cell_type": "code",
      "source": [
        "!git  clone https://github.com/iamjems/Enhancement-of-Surveillance-Cameras-Accident-Detection-with-Alert-System.git\n",
        "\n"
      ],
      "metadata": {
        "id": "vdVYnG38bMhU",
        "colab": {
          "base_uri": "https://localhost:8080/"
        },
        "outputId": "0db20c23-13ca-48e0-b7c8-26985ae05207"
      },
      "execution_count": null,
      "outputs": [
        {
          "output_type": "stream",
          "name": "stdout",
          "text": [
            "Cloning into 'Enhancement-of-Surveillance-Cameras-Accident-Detection-with-Alert-System'...\n",
            "warning: You appear to have cloned an empty repository.\n"
          ]
        }
      ]
    },
    {
      "cell_type": "markdown",
      "source": [
        "dire pag comment sa text kay di mu run\n",
        "sorry boss manol sa \n",
        "ahhahahahah\n",
        "\n",
        "nandwelete ra oi\n",
        "\n",
        "wala koy gidelete oy hahahaha\n",
        "\n",
        "\n"
      ],
      "metadata": {
        "id": "ZWZCaiddb4Vl"
      }
    },
    {
      "cell_type": "code",
      "source": [
        ""
      ],
      "metadata": {
        "id": "bHTsnRB_iClc"
      },
      "execution_count": null,
      "outputs": []
    }
  ]
}