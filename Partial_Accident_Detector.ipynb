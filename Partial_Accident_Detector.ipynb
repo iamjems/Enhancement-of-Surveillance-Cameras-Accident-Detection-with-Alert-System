{
  "nbformat": 4,
  "nbformat_minor": 0,
  "metadata": {
    "colab": {
      "name": "Partial Accident Detector.ipynb",
      "provenance": [],
      "collapsed_sections": [],
      "toc_visible": true,
      "include_colab_link": true
    },
    "kernelspec": {
      "name": "python3",
      "display_name": "Python 3"
    },
    "language_info": {
      "name": "python"
    }
  },
  "cells": [
    {
      "cell_type": "markdown",
      "metadata": {
        "id": "view-in-github",
        "colab_type": "text"
      },
      "source": [
        "<a href=\"https://colab.research.google.com/github/iamjems/Enhancement-of-Surveillance-Cameras-Accident-Detection-with-Alert-System/blob/main/Partial_Accident_Detector.ipynb\" target=\"_parent\"><img src=\"https://colab.research.google.com/assets/colab-badge.svg\" alt=\"Open In Colab\"/></a>"
      ]
    },
    {
      "cell_type": "markdown",
      "source": [
        "# Mounting Files on Google Drive"
      ],
      "metadata": {
        "id": "idRfSV-bUpJf"
      }
    },
    {
      "cell_type": "code",
      "source": [
        "from google.colab import drive\n",
        "drive.mount('/content/drive')"
      ],
      "metadata": {
        "id": "JILMPXoWcIl-"
      },
      "execution_count": null,
      "outputs": []
    },
    {
      "cell_type": "code",
      "execution_count": null,
      "metadata": {
        "id": "un01_nB3aQba"
      },
      "outputs": [],
      "source": [
        "cd '/content/drive/MyDrive/Colab Notebooks/test folder'"
      ]
    },
    {
      "cell_type": "code",
      "source": [
        "%pwd"
      ],
      "metadata": {
        "id": "D-aVWv-TbBRq"
      },
      "execution_count": null,
      "outputs": []
    },
    {
      "cell_type": "code",
      "source": [
        "!git  clone https://github.com/iamjems/Enhancement-of-Surveillance-Cameras-Accident-Detection-with-Alert-System.git\n",
        "\n"
      ],
      "metadata": {
        "id": "vdVYnG38bMhU"
      },
      "execution_count": null,
      "outputs": []
    },
    {
      "cell_type": "markdown",
      "source": [
        "# Imports"
      ],
      "metadata": {
        "id": "Ka0tmbJ1qAIJ"
      }
    },
    {
      "cell_type": "code",
      "source": [
        "from ctypes import *\n",
        "import math\n",
        "import random\n",
        "import os\n",
        "import cv2\n",
        "import numpy as np\n",
        "import time\n",
        "import darknet\n",
        "from itertools import combinations\n",
        "import pafy\n",
        "import youtube_dl\n",
        "#import image_email_car   # Uncomment for alert to email\n"
      ],
      "metadata": {
        "id": "POO0bUx9qCzL"
      },
      "execution_count": null,
      "outputs": []
    },
    {
      "cell_type": "markdown",
      "source": [
        "# Calculate Euclidean Distance between two points"
      ],
      "metadata": {
        "id": "-ZVA6mmSVOzZ"
      }
    },
    {
      "cell_type": "code",
      "source": [
        "def is_close(p1, p2):\n",
        "    \"\"\"    \n",
        "    :param:\n",
        "    p1, p2 = two points for calculating Euclidean Distance\n",
        "    :return:\n",
        "    dst = Euclidean Distance between two 2d points\n",
        "    \"\"\"\n",
        "    dst = math.sqrt(p1**2 + p2**2)\n",
        "    return dst \n",
        "\n"
      ],
      "metadata": {
        "id": "i_hkACUFVSNf"
      },
      "execution_count": 1,
      "outputs": []
    },
    {
      "cell_type": "markdown",
      "source": [
        "# Center coordinates to rectangle coordinates Conversion\n"
      ],
      "metadata": {
        "id": "gSMrkFrkVVM2"
      }
    },
    {
      "cell_type": "code",
      "source": [
        "def convertBack(x, y, w, h): \n",
        "    \n",
        "    \"\"\"\n",
        "    :param:\n",
        "    x, y = midpoint of bbox\n",
        "    w, h = width, height of the bbox\n",
        "    \n",
        "    :return:\n",
        "    xmin, ymin, xmax, ymax\n",
        "    \"\"\"\n",
        "    xmin = int(round(x - (w / 2)))\n",
        "    xmax = int(round(x + (w / 2)))\n",
        "    ymin = int(round(y - (h / 2)))\n",
        "    ymax = int(round(y + (h / 2)))\n",
        "    return xmin, ymin, xmax, ymax\n",
        "\n",
        "#alert_var = 0      # Uncomment for alert to email       # makes sure that alert (Sending an E-mail) is generated only once"
      ],
      "metadata": {
        "id": "radvnLVFVjaz"
      },
      "execution_count": 2,
      "outputs": []
    },
    {
      "cell_type": "markdown",
      "source": [
        "# cvDrawBoxes"
      ],
      "metadata": {
        "id": "KS13tHhSXBZx"
      }
    },
    {
      "cell_type": "code",
      "source": [
        "def cvDrawBoxes(detections, img):\n",
        "    \"\"\"\n",
        "    :param:\n",
        "    detections = total detections in one frame\n",
        "    img = image from detect_image method of darknet\n",
        "    :return:\n",
        "    img with bbox\n",
        "    \"\"\"\n",
        "    #global alert_var"
      ],
      "metadata": {
        "id": "vyUgBYWkXYW9"
      },
      "execution_count": null,
      "outputs": []
    },
    {
      "cell_type": "markdown",
      "source": [
        "Filter out Cars class from detections and get bounding box centroid for each car detection."
      ],
      "metadata": {
        "id": "qi1V5LiRYCu0"
      }
    },
    {
      "cell_type": "code",
      "source": [
        " if len(detections) > 0:  \t\t\t\t\t\t# At least 1 detection in the image and check detection presence in a frame  \n",
        "        centroid_dict = dict() \t\t\t\t\t\t# Function creates a dictionary and calls it centroid_dict\n",
        "        objectId = 0\t\t\t\t\t\t\t\t# We inialize a variable called ObjectId and set it to 0\n",
        "        for detection in detections:\t\t\t\t# In this if statement, we filter all the detections for cars only\n",
        "            # Check for the only car name tag \n",
        "            name_tag = str(detection[0].decode())   # Coco file has string of all the names\n",
        "            if name_tag == 'car':                \n",
        "                x, y, w, h = detection[2][0],\\\n",
        "                            detection[2][1],\\\n",
        "                            detection[2][2],\\\n",
        "                            detection[2][3]      \t# Store the center points of the detections\n",
        "                xmin, ymin, xmax, ymax = convertBack(float(x), float(y), float(w), float(h))   # Convert from center coordinates to rectangular coordinates, We use floats to ensure the precision of the BBox            \n",
        "                # Append center point of bbox for cars detected.\n",
        "                centroid_dict[objectId] = (int(x), int(y), xmin, ymin, xmax, ymax) # Create dictionary of tuple with 'objectId' as the index center points and bbox\n",
        "                objectId += 1 #Increment the index for each detection    "
      ],
      "metadata": {
        "id": "HuRFkfaCXnN3"
      },
      "execution_count": null,
      "outputs": []
    },
    {
      "cell_type": "markdown",
      "source": [
        "Determine which car bbox are close to each other"
      ],
      "metadata": {
        "id": "Jb1ltLNyZ4zI"
      }
    },
    {
      "cell_type": "code",
      "source": [
        " vehicle_red_zone_list = [] # List containing which Object id is in under threshold distance condition. \n",
        "        vehicle_red_line_list = []\n",
        "        for (id1, p1), (id2, p2) in combinations(centroid_dict.items(), 2): # Get all the combinations of close detections, #List of multiple items - id1 1, points 2, 1,3\n",
        "            #dx, dy = p1[0] - p2[0], p1[1] - p2[1]  \t# Check the difference between centroid x: 0, y :1\n",
        "            #distance = is_close(dx, dy) \t\t\t# Calculates the Euclidean distance\n",
        "            \n",
        "            #if distance < 50.0:\t\t\t\t\t\t# Set our distance threshold - If they meet this condition then..\n",
        "            \n",
        "            if not ((p1[2]>=p2[4]) or (p1[4]<=p2[2]) or (p1[5]<=p2[3]) or (p1[3]>=p2[5])):\n",
        "                if id1 not in vehicle_red_zone_list:\n",
        "                    vehicle_red_zone_list.append(id1)       #  Add Id to a list\n",
        "                    vehicle_red_line_list.append(p1[0:2])   #  Add points to the list\n",
        "                if id2 not in vehicle_red_zone_list:\n",
        "                    vehicle_red_zone_list.append(id2)\t\t# Same for the second id \n",
        "                    vehicle_red_line_list.append(p2[0:2])\n",
        "        \n",
        "        for idx, box in centroid_dict.items():  # dict (1(key):red(value), 2 blue)  idx - key  box - value\n",
        "            if idx in vehicle_red_zone_list:   # if id is in red zone list\n",
        "                cv2.rectangle(img, (box[2], box[3]), (box[4], box[5]), (255, 0, 0), 2) # Create Red bounding boxes  #starting point, ending point size of 2\n",
        "            else:\n",
        "                cv2.rectangle(img, (box[2], box[3]), (box[4], box[5]), (0, 255, 0), 2) # Create Green bounding boxes"
      ],
      "metadata": {
        "id": "AWtLkOfPawaX"
      },
      "execution_count": null,
      "outputs": []
    }
  ]
}