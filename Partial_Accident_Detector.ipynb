{
  "nbformat": 4,
  "nbformat_minor": 0,
  "metadata": {
    "colab": {
      "name": "Partial Accident Detector.ipynb",
      "provenance": [],
      "collapsed_sections": [],
      "toc_visible": true,
      "include_colab_link": true
    },
    "kernelspec": {
      "name": "python3",
      "display_name": "Python 3"
    },
    "language_info": {
      "name": "python"
    }
  },
  "cells": [
    {
      "cell_type": "markdown",
      "metadata": {
        "id": "view-in-github",
        "colab_type": "text"
      },
      "source": [
        "<a href=\"https://colab.research.google.com/github/iamjems/Enhancement-of-Surveillance-Cameras-Accident-Detection-with-Alert-System/blob/main/Partial_Accident_Detector.ipynb\" target=\"_parent\"><img src=\"https://colab.research.google.com/assets/colab-badge.svg\" alt=\"Open In Colab\"/></a>"
      ]
    },
    {
      "cell_type": "code",
      "source": [
        "from google.colab import drive\n",
        "drive.mount('/content/drive')"
      ],
      "metadata": {
        "id": "JILMPXoWcIl-"
      },
      "execution_count": null,
      "outputs": []
    },
    {
      "cell_type": "code",
      "execution_count": null,
      "metadata": {
        "id": "un01_nB3aQba"
      },
      "outputs": [],
      "source": [
        "cd '/content/drive/MyDrive/Colab Notebooks/test folder'"
      ]
    },
    {
      "cell_type": "code",
      "source": [
        "%pwd"
      ],
      "metadata": {
        "id": "D-aVWv-TbBRq"
      },
      "execution_count": null,
      "outputs": []
    },
    {
      "cell_type": "code",
      "source": [
        "!git  clone https://github.com/iamjems/Enhancement-of-Surveillance-Cameras-Accident-Detection-with-Alert-System.git\n",
        "\n"
      ],
      "metadata": {
        "id": "vdVYnG38bMhU"
      },
      "execution_count": null,
      "outputs": []
    },
    {
      "cell_type": "markdown",
      "source": [
        "**CODES**"
      ],
      "metadata": {
        "id": "Ka0tmbJ1qAIJ"
      }
    },
    {
      "cell_type": "code",
      "source": [
        "from ctypes import *\n",
        "import math\n",
        "import random\n",
        "import os\n",
        "import cv2\n",
        "import numpy as np\n",
        "import time\n",
        "import darknet\n",
        "from itertools import combinations\n",
        "import pafy\n",
        "import youtube_dl\n",
        "#import image_email_car   # Uncomment for alert to email\n",
        "\n",
        "def is_close(p1, p2):\n",
        "    \"\"\"\n",
        "    #================================================================\n",
        "    # Purpose : Calculate Euclidean Distance between two points\n",
        "    #================================================================    \n",
        "    :param:\n",
        "    p1, p2 = two points for calculating Euclidean Distance\n",
        "    :return:\n",
        "    dst = Euclidean Distance between two 2d points\n",
        "    \"\"\"\n",
        "    dst = math.sqrt(p1**2 + p2**2)\n",
        "    #=================================================================#\n",
        "    return dst \n",
        "\n",
        "\n",
        "def convertBack(x, y, w, h): \n",
        "    #================================================================\n",
        "    # Purpose : Converts center coordinates to rectangle coordinates\n",
        "    #================================================================  \n",
        "    \"\"\"\n",
        "    :param:\n",
        "    x, y = midpoint of bbox\n",
        "    w, h = width, height of the bbox\n",
        "    \n",
        "    :return:\n",
        "    xmin, ymin, xmax, ymax\n",
        "    \"\"\"\n",
        "    xmin = int(round(x - (w / 2)))\n",
        "    xmax = int(round(x + (w / 2)))\n",
        "    ymin = int(round(y - (h / 2)))\n",
        "    ymax = int(round(y + (h / 2)))\n",
        "    return xmin, ymin, xmax, ymax\n",
        "\n",
        "#alert_var = 0      # Uncomment for alert to email       # makes sure that alert (Sending an E-mail) is generated only once\n"
      ],
      "metadata": {
        "id": "POO0bUx9qCzL"
      },
      "execution_count": null,
      "outputs": []
    }
  ]
}