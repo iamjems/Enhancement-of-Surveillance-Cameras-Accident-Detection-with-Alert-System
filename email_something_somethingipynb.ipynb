{
  "nbformat": 4,
  "nbformat_minor": 0,
  "metadata": {
    "colab": {
      "name": "email something somethingipynb",
      "provenance": [],
      "collapsed_sections": [],
      "authorship_tag": "ABX9TyMSjEO/fXmAI40uP9VIMJca",
      "include_colab_link": true
    },
    "kernelspec": {
      "name": "python3",
      "display_name": "Python 3"
    },
    "language_info": {
      "name": "python"
    }
  },
  "cells": [
    {
      "cell_type": "markdown",
      "metadata": {
        "id": "view-in-github",
        "colab_type": "text"
      },
      "source": [
        "<a href=\"https://colab.research.google.com/github/iamjems/Enhancement-of-Surveillance-Cameras-Accident-Detection-with-Alert-System/blob/main/email_something_somethingipynb.ipynb\" target=\"_parent\"><img src=\"https://colab.research.google.com/assets/colab-badge.svg\" alt=\"Open In Colab\"/></a>"
      ]
    },
    {
      "cell_type": "markdown",
      "source": [
        "Import necessary imports"
      ],
      "metadata": {
        "id": "PSjYsLJAjpX4"
      }
    },
    {
      "cell_type": "code",
      "source": [
        "import os\n",
        "import smtplib\n",
        "from email.mime.text import MIMEText\n",
        "from email.mime.image import MIMEImage\n",
        "from email.mime.multipart import MIMEMultipart\n"
      ],
      "metadata": {
        "id": "rJCapojOkgrp"
      },
      "execution_count": null,
      "outputs": []
    }
  ]
}