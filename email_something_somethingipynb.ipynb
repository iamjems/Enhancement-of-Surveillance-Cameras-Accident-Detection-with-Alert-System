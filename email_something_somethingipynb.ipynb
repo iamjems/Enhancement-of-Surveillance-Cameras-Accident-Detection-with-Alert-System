{
  "nbformat": 4,
  "nbformat_minor": 0,
  "metadata": {
    "colab": {
      "name": "email something somethingipynb",
      "provenance": [],
      "collapsed_sections": [],
      "authorship_tag": "ABX9TyPuj3SPM2qMs5SZ2cDysdVg",
      "include_colab_link": true
    },
    "kernelspec": {
      "name": "python3",
      "display_name": "Python 3"
    },
    "language_info": {
      "name": "python"
    }
  },
  "cells": [
    {
      "cell_type": "markdown",
      "metadata": {
        "id": "view-in-github",
        "colab_type": "text"
      },
      "source": [
        "<a href=\"https://colab.research.google.com/github/iamjems/Enhancement-of-Surveillance-Cameras-Accident-Detection-with-Alert-System/blob/main/email_something_somethingipynb.ipynb\" target=\"_parent\"><img src=\"https://colab.research.google.com/assets/colab-badge.svg\" alt=\"Open In Colab\"/></a>"
      ]
    },
    {
      "cell_type": "markdown",
      "source": [
        "Import necessary imports"
      ],
      "metadata": {
        "id": "PSjYsLJAjpX4"
      }
    },
    {
      "cell_type": "code",
      "source": [
        "import os\n",
        "import smtplib\n",
        "from email.mime.text import MIMEText\n",
        "from email.mime.image import MIMEImage\n",
        "from email.mime.multipart import MIMEMultipart\n"
      ],
      "metadata": {
        "id": "rJCapojOkgrp"
      },
      "execution_count": null,
      "outputs": []
    },
    {
      "cell_type": "code",
      "source": [
        "def SendMail(ImgFileName):\n",
        "    img_data = open(ImgFileName, 'rb').read()\n",
        "    msg = MIMEMultipart()\n",
        "    msg['Subject'] = 'Crash Alert'\n",
        "    msg['From'] = 'sample@gmail.com.cc'\n",
        "    msg['To'] = 'sample@gmail.com.cc'\n",
        "\n",
        "    text = MIMEText(\"Vehicle Crash Detected. Send HELP\")\n",
        "    msg.attach(text)\n",
        "    image = MIMEImage(img_data, name=os.path.basename(ImgFileName))\n",
        "    msg.attach(image)"
      ],
      "metadata": {
        "id": "bP13ciriTwK2"
      },
      "execution_count": null,
      "outputs": []
    },
    {
      "cell_type": "code",
      "source": [
        "  s = smtplib.SMTP('smtp.gmail.com', 587)\n",
        "    s.ehlo()\n",
        "    s.starttls()\n",
        "    s.ehlo()\n",
        "    s.login(\"sample_sender@gmail.com\", \"sample_password\")\n",
        "    s.sendmail(\"sample_sender@gmail.com\", \"sample_receiver@gmail.com\", msg.as_string())\n",
        "    s.quit()"
      ],
      "metadata": {
        "id": "D4rc53tN59EG"
      },
      "execution_count": null,
      "outputs": []
    }
  ]
}